{
 "cells": [
  {
   "cell_type": "markdown",
   "metadata": {},
   "source": [
    "### Import Libraries"
   ]
  },
  {
   "cell_type": "code",
   "execution_count": 1,
   "metadata": {},
   "outputs": [],
   "source": [
    "import pandas as pd\n",
    "import numpy as np\n",
    "import statsmodels.api as sm\n",
    "from linearmodels.iv import IV2SLS\n",
    "\n",
    "import warnings\n",
    "warnings.filterwarnings(\"ignore\")"
   ]
  },
  {
   "cell_type": "markdown",
   "metadata": {},
   "source": [
    "### Load the data"
   ]
  },
  {
   "cell_type": "code",
   "execution_count": 2,
   "metadata": {},
   "outputs": [],
   "source": [
    "data = pd.read_excel('Project1Data.xlsx')"
   ]
  },
  {
   "cell_type": "code",
   "execution_count": 3,
   "metadata": {},
   "outputs": [
    {
     "data": {
      "text/html": [
       "<div>\n",
       "<style scoped>\n",
       "    .dataframe tbody tr th:only-of-type {\n",
       "        vertical-align: middle;\n",
       "    }\n",
       "\n",
       "    .dataframe tbody tr th {\n",
       "        vertical-align: top;\n",
       "    }\n",
       "\n",
       "    .dataframe thead th {\n",
       "        text-align: right;\n",
       "    }\n",
       "</style>\n",
       "<table border=\"1\" class=\"dataframe\">\n",
       "  <thead>\n",
       "    <tr style=\"text-align: right;\">\n",
       "      <th></th>\n",
       "      <th>maand</th>\n",
       "      <th>year</th>\n",
       "      <th>month</th>\n",
       "      <th>qu</th>\n",
       "      <th>cprice</th>\n",
       "      <th>tprice</th>\n",
       "      <th>oprice</th>\n",
       "      <th>incom</th>\n",
       "      <th>q1</th>\n",
       "      <th>q2</th>\n",
       "      <th>q3</th>\n",
       "      <th>q4</th>\n",
       "      <th>bprice</th>\n",
       "      <th>wprice</th>\n",
       "      <th>ln_qu</th>\n",
       "      <th>ln_cprice</th>\n",
       "      <th>ln_tprice</th>\n",
       "      <th>ln_bprice</th>\n",
       "      <th>ln_wprice</th>\n",
       "      <th>ln_income</th>\n",
       "    </tr>\n",
       "  </thead>\n",
       "  <tbody>\n",
       "    <tr>\n",
       "      <th>0</th>\n",
       "      <td>Jan 1990</td>\n",
       "      <td>1990</td>\n",
       "      <td>1</td>\n",
       "      <td>0.55</td>\n",
       "      <td>12.12</td>\n",
       "      <td>18.6</td>\n",
       "      <td>1.0</td>\n",
       "      <td>1640.87</td>\n",
       "      <td>1</td>\n",
       "      <td>0</td>\n",
       "      <td>0</td>\n",
       "      <td>0</td>\n",
       "      <td>3.47</td>\n",
       "      <td>28.15</td>\n",
       "      <td>-0.597837</td>\n",
       "      <td>2.494857</td>\n",
       "      <td>2.923162</td>\n",
       "      <td>1.244155</td>\n",
       "      <td>3.337547</td>\n",
       "      <td>7.402982</td>\n",
       "    </tr>\n",
       "    <tr>\n",
       "      <th>1</th>\n",
       "      <td>Feb 1990</td>\n",
       "      <td>1990</td>\n",
       "      <td>2</td>\n",
       "      <td>0.65</td>\n",
       "      <td>12.12</td>\n",
       "      <td>18.6</td>\n",
       "      <td>1.0</td>\n",
       "      <td>1538.60</td>\n",
       "      <td>1</td>\n",
       "      <td>0</td>\n",
       "      <td>0</td>\n",
       "      <td>0</td>\n",
       "      <td>3.40</td>\n",
       "      <td>28.15</td>\n",
       "      <td>-0.430783</td>\n",
       "      <td>2.494857</td>\n",
       "      <td>2.923162</td>\n",
       "      <td>1.223775</td>\n",
       "      <td>3.337547</td>\n",
       "      <td>7.338628</td>\n",
       "    </tr>\n",
       "    <tr>\n",
       "      <th>2</th>\n",
       "      <td>Mar 1990</td>\n",
       "      <td>1990</td>\n",
       "      <td>3</td>\n",
       "      <td>0.66</td>\n",
       "      <td>12.12</td>\n",
       "      <td>18.6</td>\n",
       "      <td>1.0</td>\n",
       "      <td>1680.93</td>\n",
       "      <td>1</td>\n",
       "      <td>0</td>\n",
       "      <td>0</td>\n",
       "      <td>0</td>\n",
       "      <td>3.26</td>\n",
       "      <td>28.33</td>\n",
       "      <td>-0.415515</td>\n",
       "      <td>2.494857</td>\n",
       "      <td>2.923162</td>\n",
       "      <td>1.181727</td>\n",
       "      <td>3.343921</td>\n",
       "      <td>7.427102</td>\n",
       "    </tr>\n",
       "    <tr>\n",
       "      <th>3</th>\n",
       "      <td>Apr 1990</td>\n",
       "      <td>1990</td>\n",
       "      <td>4</td>\n",
       "      <td>0.66</td>\n",
       "      <td>12.12</td>\n",
       "      <td>18.6</td>\n",
       "      <td>1.0</td>\n",
       "      <td>1656.20</td>\n",
       "      <td>0</td>\n",
       "      <td>1</td>\n",
       "      <td>0</td>\n",
       "      <td>0</td>\n",
       "      <td>3.46</td>\n",
       "      <td>28.49</td>\n",
       "      <td>-0.415515</td>\n",
       "      <td>2.494857</td>\n",
       "      <td>2.923162</td>\n",
       "      <td>1.241269</td>\n",
       "      <td>3.349553</td>\n",
       "      <td>7.412281</td>\n",
       "    </tr>\n",
       "    <tr>\n",
       "      <th>4</th>\n",
       "      <td>May 1990</td>\n",
       "      <td>1990</td>\n",
       "      <td>5</td>\n",
       "      <td>0.64</td>\n",
       "      <td>12.12</td>\n",
       "      <td>18.6</td>\n",
       "      <td>1.0</td>\n",
       "      <td>1700.80</td>\n",
       "      <td>0</td>\n",
       "      <td>1</td>\n",
       "      <td>0</td>\n",
       "      <td>0</td>\n",
       "      <td>3.47</td>\n",
       "      <td>28.55</td>\n",
       "      <td>-0.446287</td>\n",
       "      <td>2.494857</td>\n",
       "      <td>2.923162</td>\n",
       "      <td>1.244155</td>\n",
       "      <td>3.351657</td>\n",
       "      <td>7.438854</td>\n",
       "    </tr>\n",
       "  </tbody>\n",
       "</table>\n",
       "</div>"
      ],
      "text/plain": [
       "      maand  year  month    qu  cprice  tprice  oprice    incom  q1  q2  q3  \\\n",
       "0  Jan 1990  1990      1  0.55   12.12    18.6     1.0  1640.87   1   0   0   \n",
       "1  Feb 1990  1990      2  0.65   12.12    18.6     1.0  1538.60   1   0   0   \n",
       "2  Mar 1990  1990      3  0.66   12.12    18.6     1.0  1680.93   1   0   0   \n",
       "3  Apr 1990  1990      4  0.66   12.12    18.6     1.0  1656.20   0   1   0   \n",
       "4  May 1990  1990      5  0.64   12.12    18.6     1.0  1700.80   0   1   0   \n",
       "\n",
       "   q4  bprice  wprice     ln_qu  ln_cprice  ln_tprice  ln_bprice  ln_wprice  \\\n",
       "0   0    3.47   28.15 -0.597837   2.494857   2.923162   1.244155   3.337547   \n",
       "1   0    3.40   28.15 -0.430783   2.494857   2.923162   1.223775   3.337547   \n",
       "2   0    3.26   28.33 -0.415515   2.494857   2.923162   1.181727   3.343921   \n",
       "3   0    3.46   28.49 -0.415515   2.494857   2.923162   1.241269   3.349553   \n",
       "4   0    3.47   28.55 -0.446287   2.494857   2.923162   1.244155   3.351657   \n",
       "\n",
       "   ln_income  \n",
       "0   7.402982  \n",
       "1   7.338628  \n",
       "2   7.427102  \n",
       "3   7.412281  \n",
       "4   7.438854  "
      ]
     },
     "execution_count": 3,
     "metadata": {},
     "output_type": "execute_result"
    }
   ],
   "source": [
    "# Create log-transformed variables for demand and supply analysis\n",
    "data['ln_qu'] = np.log(data['qu'])\n",
    "data['ln_cprice'] = np.log(data['cprice'])\n",
    "data['ln_tprice'] = np.log(data['tprice'])\n",
    "data['ln_bprice'] = np.log(data['bprice'])\n",
    "data['ln_wprice'] = np.log(data['wprice'])\n",
    "data['ln_income'] = np.log(data['incom'])\n",
    "\n",
    "# Check the transformed data\n",
    "data.head()"
   ]
  },
  {
   "cell_type": "markdown",
   "metadata": {},
   "source": [
    "#### Demand equation"
   ]
  },
  {
   "cell_type": "markdown",
   "metadata": {},
   "source": [
    "##### Step 1. Using the OLS method "
   ]
  },
  {
   "cell_type": "code",
   "execution_count": 4,
   "metadata": {},
   "outputs": [
    {
     "name": "stdout",
     "output_type": "stream",
     "text": [
      "                            OLS Regression Results                            \n",
      "==============================================================================\n",
      "Dep. Variable:                  ln_qu   R-squared:                       0.290\n",
      "Model:                            OLS   Adj. R-squared:                  0.235\n",
      "Method:                 Least Squares   F-statistic:                     5.239\n",
      "Date:                Thu, 19 Sep 2024   Prob (F-statistic):           0.000144\n",
      "Time:                        21:18:59   Log-Likelihood:                 79.838\n",
      "No. Observations:                  84   AIC:                            -145.7\n",
      "Df Residuals:                      77   BIC:                            -128.7\n",
      "Df Model:                           6                                         \n",
      "Covariance Type:            nonrobust                                         \n",
      "==============================================================================\n",
      "                 coef    std err          t      P>|t|      [0.025      0.975]\n",
      "------------------------------------------------------------------------------\n",
      "const         -4.2635      1.997     -2.135      0.036      -8.240      -0.287\n",
      "ln_cprice     -0.3584      0.121     -2.959      0.004      -0.600      -0.117\n",
      "ln_income      0.1941      0.225      0.861      0.392      -0.255       0.643\n",
      "ln_tprice      1.1593      1.028      1.128      0.263      -0.888       3.206\n",
      "q1            -0.1194      0.031     -3.812      0.000      -0.182      -0.057\n",
      "q2            -0.0909      0.030     -3.001      0.004      -0.151      -0.031\n",
      "q3            -0.1104      0.030     -3.626      0.001      -0.171      -0.050\n",
      "==============================================================================\n",
      "Omnibus:                       10.567   Durbin-Watson:                   2.136\n",
      "Prob(Omnibus):                  0.005   Jarque-Bera (JB):               11.851\n",
      "Skew:                           0.660   Prob(JB):                      0.00267\n",
      "Kurtosis:                       4.282   Cond. No.                     1.77e+03\n",
      "==============================================================================\n",
      "\n",
      "Notes:\n",
      "[1] Standard Errors assume that the covariance matrix of the errors is correctly specified.\n",
      "[2] The condition number is large, 1.77e+03. This might indicate that there are\n",
      "strong multicollinearity or other numerical problems.\n"
     ]
    }
   ],
   "source": [
    "# Define the independent variables (including season dummies and other factors)\n",
    "X = sm.add_constant(data[['ln_cprice', 'ln_income', 'ln_tprice', 'q1', 'q2', 'q3']])\n",
    "\n",
    "# Dependent variable: log of quantity demanded\n",
    "y = data['ln_qu']\n",
    "\n",
    "# Fit the OLS model for demand\n",
    "demand_model = sm.OLS(y, X).fit()\n",
    "\n",
    "# Print the summary of the regression\n",
    "print(demand_model.summary())"
   ]
  },
  {
   "cell_type": "markdown",
   "metadata": {},
   "source": [
    "##### Step 2. Using first stage SLS to define the instrument (to check if the instrument variable would be a good fit or not)"
   ]
  },
  {
   "cell_type": "code",
   "execution_count": 10,
   "metadata": {},
   "outputs": [
    {
     "name": "stdout",
     "output_type": "stream",
     "text": [
      "                            OLS Regression Results                            \n",
      "==============================================================================\n",
      "Dep. Variable:              ln_cprice   R-squared:                       0.947\n",
      "Model:                            OLS   Adj. R-squared:                  0.944\n",
      "Method:                 Least Squares   F-statistic:                     281.0\n",
      "Date:                Thu, 19 Sep 2024   Prob (F-statistic):           2.33e-48\n",
      "Time:                        21:23:12   Log-Likelihood:                 153.48\n",
      "No. Observations:                  84   AIC:                            -295.0\n",
      "Df Residuals:                      78   BIC:                            -280.4\n",
      "Df Model:                           5                                         \n",
      "Covariance Type:            nonrobust                                         \n",
      "==============================================================================\n",
      "                 coef    std err          t      P>|t|      [0.025      0.975]\n",
      "------------------------------------------------------------------------------\n",
      "const          1.4777      0.051     28.761      0.000       1.375       1.580\n",
      "ln_bprice      0.4794      0.019     24.971      0.000       0.441       0.518\n",
      "incom          0.0003   3.02e-05      8.460      0.000       0.000       0.000\n",
      "q1             0.0048      0.013      0.371      0.712      -0.021       0.030\n",
      "q2            -0.0145      0.013     -1.158      0.251      -0.039       0.010\n",
      "q3             0.0079      0.013      0.631      0.530      -0.017       0.033\n",
      "==============================================================================\n",
      "Omnibus:                        4.165   Durbin-Watson:                   0.541\n",
      "Prob(Omnibus):                  0.125   Jarque-Bera (JB):                3.641\n",
      "Skew:                           0.504   Prob(JB):                        0.162\n",
      "Kurtosis:                       3.151   Cond. No.                     2.31e+04\n",
      "==============================================================================\n",
      "\n",
      "Notes:\n",
      "[1] Standard Errors assume that the covariance matrix of the errors is correctly specified.\n",
      "[2] The condition number is large, 2.31e+04. This might indicate that there are\n",
      "strong multicollinearity or other numerical problems.\n"
     ]
    }
   ],
   "source": [
    "# First stage regression: Regress ln_cprice on the instrument ln_bprice and other exogenous variables\n",
    "X_first_stage = sm.add_constant(data[['ln_bprice', 'incom', 'q1', 'q2', 'q3']])\n",
    "y_first_stage = data['ln_cprice']\n",
    "\n",
    "first_stage_model = sm.OLS(y_first_stage, X_first_stage).fit()\n",
    "\n",
    "# Print the summary to check the significance of ln_bprice in predicting ln_cprice\n",
    "print(first_stage_model.summary())"
   ]
  },
  {
   "cell_type": "markdown",
   "metadata": {},
   "source": [
    "##### Step 3. Using the 2SLS method to form the final demand equation"
   ]
  },
  {
   "cell_type": "code",
   "execution_count": 6,
   "metadata": {},
   "outputs": [
    {
     "name": "stdout",
     "output_type": "stream",
     "text": [
      "                          IV-2SLS Estimation Summary                          \n",
      "==============================================================================\n",
      "Dep. Variable:                  ln_qu   R-squared:                      0.9457\n",
      "Estimator:                    IV-2SLS   Adj. R-squared:                 0.9422\n",
      "No. Observations:                  84   F-statistic:                    1762.2\n",
      "Date:                Thu, Sep 19 2024   P-value (F-stat)                0.0000\n",
      "Time:                        21:19:18   Distribution:                  chi2(5)\n",
      "Cov. Estimator:                robust                                         \n",
      "                                                                              \n",
      "                             Parameter Estimates                              \n",
      "==============================================================================\n",
      "            Parameter  Std. Err.     T-stat    P-value    Lower CI    Upper CI\n",
      "------------------------------------------------------------------------------\n",
      "incom          0.0002  7.733e-05     2.6019     0.0093   4.965e-05      0.0004\n",
      "q1            -0.1128     0.0328    -3.4402     0.0006     -0.1770     -0.0485\n",
      "q2            -0.0906     0.0277    -3.2741     0.0011     -0.1448     -0.0364\n",
      "q3            -0.1082     0.0328    -3.3003     0.0010     -0.1725     -0.0439\n",
      "ln_cprice     -0.2688     0.0617    -4.3572     0.0000     -0.3896     -0.1479\n",
      "==============================================================================\n",
      "\n",
      "Endogenous: ln_cprice\n",
      "Instruments: const, ln_bprice\n",
      "Robust Covariance (Heteroskedastic)\n",
      "Debiased: False\n"
     ]
    }
   ],
   "source": [
    "# First stage: Instrument price with bprice and wprice\n",
    "X_iv = data[['incom','q1', 'q2', 'q3']]\n",
    "Z_iv = sm.add_constant(data[['ln_bprice']])  # Instruments\n",
    "\n",
    "# Second stage: Using predicted prices to estimate demand\n",
    "iv_model = IV2SLS(dependent=data['ln_qu'], exog=X_iv, endog=data['ln_cprice'], instruments=Z_iv).fit()\n",
    "\n",
    "# Print the summary of the IV regression\n",
    "print(iv_model.summary)"
   ]
  },
  {
   "cell_type": "markdown",
   "metadata": {},
   "source": [
    "----------------------------------------------"
   ]
  },
  {
   "cell_type": "markdown",
   "metadata": {},
   "source": [
    "#### Supply equation"
   ]
  },
  {
   "cell_type": "markdown",
   "metadata": {},
   "source": [
    "##### Step 1. Using first stage SLS to define the instrument (to check if the instrument variable would be a good fit or not)"
   ]
  },
  {
   "cell_type": "code",
   "execution_count": 11,
   "metadata": {},
   "outputs": [
    {
     "name": "stdout",
     "output_type": "stream",
     "text": [
      "                            OLS Regression Results                            \n",
      "==============================================================================\n",
      "Dep. Variable:              ln_cprice   R-squared:                       0.953\n",
      "Model:                            OLS   Adj. R-squared:                  0.952\n",
      "Method:                 Least Squares   F-statistic:                     828.4\n",
      "Date:                Thu, 19 Sep 2024   Prob (F-statistic):           1.18e-54\n",
      "Time:                        21:25:26   Log-Likelihood:                 158.56\n",
      "No. Observations:                  84   AIC:                            -311.1\n",
      "Df Residuals:                      81   BIC:                            -303.8\n",
      "Df Model:                           2                                         \n",
      "Covariance Type:            nonrobust                                         \n",
      "==============================================================================\n",
      "                 coef    std err          t      P>|t|      [0.025      0.975]\n",
      "------------------------------------------------------------------------------\n",
      "const         -0.7902      0.266     -2.968      0.004      -1.320      -0.261\n",
      "ln_bprice      0.4915      0.017     29.343      0.000       0.458       0.525\n",
      "ln_wprice      0.7958      0.080      9.944      0.000       0.637       0.955\n",
      "==============================================================================\n",
      "Omnibus:                        5.087   Durbin-Watson:                   0.432\n",
      "Prob(Omnibus):                  0.079   Jarque-Bera (JB):                4.623\n",
      "Skew:                           0.570   Prob(JB):                       0.0991\n",
      "Kurtosis:                       3.143   Cond. No.                         263.\n",
      "==============================================================================\n",
      "\n",
      "Notes:\n",
      "[1] Standard Errors assume that the covariance matrix of the errors is correctly specified.\n"
     ]
    }
   ],
   "source": [
    "# First Stage: Instrumenting ln_cprice with ln_bprice and ln_wprice\n",
    "X_iv_supply = sm.add_constant(data[['ln_bprice', 'ln_wprice']])  # Instruments (exogenous variables)\n",
    "y_first_stage_supply = data['ln_cprice']\n",
    "\n",
    "first_stage_supply = sm.OLS(y_first_stage_supply, X_iv_supply).fit()\n",
    "\n",
    "# Print the summary of the first stage to check relevance\n",
    "print(first_stage_supply.summary())"
   ]
  },
  {
   "cell_type": "markdown",
   "metadata": {},
   "source": [
    "##### Step 2. Using the 2SLS method to form the final demand equation"
   ]
  },
  {
   "cell_type": "code",
   "execution_count": 7,
   "metadata": {},
   "outputs": [
    {
     "name": "stdout",
     "output_type": "stream",
     "text": [
      "                          IV-2SLS Estimation Summary                          \n",
      "==============================================================================\n",
      "Dep. Variable:                  ln_qu   R-squared:                      0.9447\n",
      "Estimator:                    IV-2SLS   Adj. R-squared:                 0.9412\n",
      "No. Observations:                  84   F-statistic:                    1709.1\n",
      "Date:                Thu, Sep 19 2024   P-value (F-stat)                0.0000\n",
      "Time:                        21:19:41   Distribution:                  chi2(5)\n",
      "Cov. Estimator:                robust                                         \n",
      "                                                                              \n",
      "                             Parameter Estimates                              \n",
      "==============================================================================\n",
      "            Parameter  Std. Err.     T-stat    P-value    Lower CI    Upper CI\n",
      "------------------------------------------------------------------------------\n",
      "wprice         0.0138     0.0062     2.2262     0.0260      0.0016      0.0259\n",
      "q1            -0.1323     0.0303    -4.3628     0.0000     -0.1917     -0.0729\n",
      "q2            -0.0983     0.0278    -3.5388     0.0004     -0.1528     -0.0439\n",
      "q3            -0.1219     0.0324    -3.7593     0.0002     -0.1854     -0.0583\n",
      "ln_cprice     -0.2817     0.0766    -3.6784     0.0002     -0.4317     -0.1316\n",
      "==============================================================================\n",
      "\n",
      "Endogenous: ln_cprice\n",
      "Instruments: const, ln_bprice\n",
      "Robust Covariance (Heteroskedastic)\n",
      "Debiased: False\n"
     ]
    }
   ],
   "source": [
    "# Define exogenous variables for the supply function\n",
    "X_iv_supply = data[['wprice', 'q1', 'q2', 'q3']]  # Exogenous variables for the supply equation\n",
    "\n",
    "# Instrument: ln_bprice (coffee bean price)\n",
    "Z_iv_supply = sm.add_constant(data[['ln_bprice']])  # Instruments (coffee bean price)\n",
    "\n",
    "# Dependent variable: ln_qu (log of quantity supplied)\n",
    "y_supply = data['ln_qu']  \n",
    "\n",
    "# Second Stage: Using 2SLS to estimate the supply equation\n",
    "iv_model_supply = IV2SLS(dependent=y_supply, exog=X_iv_supply, endog=data['ln_cprice'], instruments=Z_iv_supply).fit()\n",
    "\n",
    "# Print the summary of the IV regression\n",
    "print(iv_model_supply.summary)"
   ]
  }
 ],
 "metadata": {
  "kernelspec": {
   "display_name": "Python 3",
   "language": "python",
   "name": "python3"
  },
  "language_info": {
   "codemirror_mode": {
    "name": "ipython",
    "version": 3
   },
   "file_extension": ".py",
   "mimetype": "text/x-python",
   "name": "python",
   "nbconvert_exporter": "python",
   "pygments_lexer": "ipython3",
   "version": "3.12.2"
  }
 },
 "nbformat": 4,
 "nbformat_minor": 2
}
